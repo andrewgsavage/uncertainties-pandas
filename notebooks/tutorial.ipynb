{
 "cells": [
  {
   "cell_type": "code",
   "execution_count": null,
   "id": "e75534c3-2828-42ad-8803-2dc4c75c7e8b",
   "metadata": {},
   "outputs": [],
   "source": [
    "from uncertainties_pandas import UncertaintyArray, UncertaintyDtype\n",
    "import pandas as pd\n",
    "import numpy as np\n",
    "from uncertainties import ufloat, umath, unumpy"
   ]
  },
  {
   "cell_type": "markdown",
   "id": "39d49925-e1f8-453d-bf1c-faf722a182d3",
   "metadata": {},
   "source": [
    "# Object creation"
   ]
  },
  {
   "cell_type": "markdown",
   "id": "42fb9e40-e614-4506-b3af-85fa5b04f302",
   "metadata": {},
   "source": [
    "Uncertainties-Pandas provides `UncertaintyArray`, which is used by pandas to store and operate on `uncertainties` objects.\n",
    "Create an `UncertaintyArray` by passing a list of ufloats."
   ]
  },
  {
   "cell_type": "code",
   "execution_count": null,
   "id": "64602486-db25-4ab6-9444-c2303122df9a",
   "metadata": {},
   "outputs": [],
   "source": [
    "ufloats = [ufloat(i, abs(i) / 100) for i in [4.0, np.nan, -5.0]]\n",
    "uarr = UncertaintyArray(ufloats)\n",
    "uarr"
   ]
  },
  {
   "cell_type": "markdown",
   "id": "b09e576f-bd8a-460a-ae71-56539e6bc4c7",
   "metadata": {},
   "source": [
    "The `UncertaintyArray` can be stored in a `Series` or `DataFrame`."
   ]
  },
  {
   "cell_type": "code",
   "execution_count": null,
   "id": "0e5c7365-551c-4e68-9b70-35fadf9ffda3",
   "metadata": {},
   "outputs": [],
   "source": [
    "s = pd.Series(uarr)\n",
    "s"
   ]
  },
  {
   "cell_type": "markdown",
   "id": "be0a6f1e-8180-497b-9071-131a392c27f0",
   "metadata": {},
   "source": [
    "<div class=\"alert alert-block alert-danger\"> Series and DataFrame both accept a list of ufloats as an input. If no dtype is specified, pandas will store the ufloats as objects, bypassing Uncertainties-Pandas. Notice the object dtype:   </div>"
   ]
  },
  {
   "cell_type": "code",
   "execution_count": null,
   "id": "8d4dcb83-df8c-4648-bea2-3907e8992e28",
   "metadata": {},
   "outputs": [],
   "source": [
    "pd.Series(ufloats)"
   ]
  },
  {
   "cell_type": "markdown",
   "id": "68e96067-82ea-4859-8634-7e53d9c61fce",
   "metadata": {},
   "source": [
    "An alternative to using `UncertaintyArray` is to specify the dtype"
   ]
  },
  {
   "cell_type": "code",
   "execution_count": null,
   "id": "c961007f-0399-453e-a341-ebf203e4fb0f",
   "metadata": {},
   "outputs": [],
   "source": [
    "pd.Series(ufloats, dtype=\"UncertaintyDtype\")\n",
    "pd.Series(ufloats, dtype=UncertaintyDtype())"
   ]
  },
  {
   "cell_type": "markdown",
   "id": "a70efc34-9dea-44c0-8638-0cacd4054c23",
   "metadata": {},
   "source": [
    "# Operations"
   ]
  },
  {
   "cell_type": "markdown",
   "id": "33312260-45e6-47e5-8688-12c656947a44",
   "metadata": {},
   "source": [
    "Let's create a `DataFrame` to show how operations behave.\n",
    "\n",
    "Columns A1 and A2 use the same objects, while column B uses different objects."
   ]
  },
  {
   "cell_type": "code",
   "execution_count": null,
   "id": "448edc7c-fb00-4e35-bc77-487aad118448",
   "metadata": {},
   "outputs": [],
   "source": [
    "uarr_a = [ufloat(i, abs(i) / 100) for i in range(1, 4)]\n",
    "uarr_b = [ufloat(i, abs(i) / 100) for i in range(1, 4)]\n",
    "\n",
    "df = pd.DataFrame({\"A1\": uarr_a, \"A2\": uarr_a, \"B\": uarr_b}, dtype=UncertaintyDtype())\n",
    "df"
   ]
  },
  {
   "cell_type": "markdown",
   "id": "c04db629-1431-4d20-ae50-f3effb8c7887",
   "metadata": {},
   "source": [
    "Equality checks show the object stored in A1 are the same as A2"
   ]
  },
  {
   "cell_type": "code",
   "execution_count": null,
   "id": "99deba2c-bc51-4a19-9488-552c9a52c7d0",
   "metadata": {},
   "outputs": [],
   "source": [
    "df[\"A1\"] == df[\"A2\"]"
   ]
  },
  {
   "cell_type": "markdown",
   "id": "ff20a54b-7a09-49de-80da-b3b32bbc47d1",
   "metadata": {},
   "source": [
    "which are different objects to those in B"
   ]
  },
  {
   "cell_type": "code",
   "execution_count": null,
   "id": "7dcf6be8-4893-47a5-8f9d-13c339d42bf4",
   "metadata": {},
   "outputs": [],
   "source": [
    "df[\"A1\"] == df[\"B\"]"
   ]
  },
  {
   "cell_type": "markdown",
   "id": "346b1bab-8a6b-4096-a99b-3a41bff65323",
   "metadata": {},
   "source": [
    "Comparative operations:"
   ]
  },
  {
   "cell_type": "code",
   "execution_count": null,
   "id": "2cb8756a-f700-42ce-85d8-e361735ce350",
   "metadata": {},
   "outputs": [],
   "source": [
    "df[\"A1\"] > 2"
   ]
  },
  {
   "cell_type": "markdown",
   "id": "e1fa122e-fe4a-483b-8853-2db0700b6a76",
   "metadata": {},
   "source": [
    "Arithmetic operations:"
   ]
  },
  {
   "cell_type": "code",
   "execution_count": null,
   "id": "c59c3f27-0fe0-4e8f-81d2-1ade3e0ecc41",
   "metadata": {},
   "outputs": [],
   "source": [
    "df[\"A1\"] - df[\"A1\"]"
   ]
  },
  {
   "cell_type": "code",
   "execution_count": null,
   "id": "d51eca57-3c28-4fc2-a218-a8447182f30c",
   "metadata": {},
   "outputs": [],
   "source": [
    "df[\"A1\"] - df[\"B\"]"
   ]
  },
  {
   "cell_type": "code",
   "execution_count": null,
   "id": "7a6693ea-fc77-46a4-90b7-8b055785cf1a",
   "metadata": {},
   "outputs": [],
   "source": [
    "df.mean()"
   ]
  },
  {
   "cell_type": "markdown",
   "id": "31c121a2-cd87-487b-94d9-62db1253fa9b",
   "metadata": {},
   "source": [
    "# Other operations:"
   ]
  },
  {
   "cell_type": "code",
   "execution_count": null,
   "id": "35cd02f5-90f3-4f02-82b8-1b952d5fc042",
   "metadata": {},
   "outputs": [],
   "source": [
    "s = df.stack()\n",
    "s"
   ]
  },
  {
   "cell_type": "code",
   "execution_count": null,
   "id": "95d5397d-9b4b-469f-b545-a287f1ac5fbe",
   "metadata": {},
   "outputs": [],
   "source": [
    "s.value_counts()"
   ]
  },
  {
   "cell_type": "code",
   "execution_count": null,
   "id": "e3bd0e46-f422-4833-bd26-61edbc045091",
   "metadata": {},
   "outputs": [],
   "source": [
    "df[\"C\"] = [1, 1, 2]\n",
    "df.groupby(\"C\")[[\"A1\", \"A2\"]].sum()"
   ]
  },
  {
   "cell_type": "markdown",
   "id": "16a5684a-b81a-45f6-9fc9-a54ca940fd38",
   "metadata": {},
   "source": [
    "# Plotting"
   ]
  },
  {
   "cell_type": "code",
   "execution_count": null,
   "id": "596da97a-260d-4459-a8e6-181bade084a0",
   "metadata": {},
   "outputs": [],
   "source": [
    "df.plot()"
   ]
  }
 ],
 "metadata": {
  "language_info": {
   "codemirror_mode": {
    "name": "ipython",
    "version": 3
   },
   "file_extension": ".py",
   "mimetype": "text/x-python",
   "name": "python",
   "nbconvert_exporter": "python",
   "pygments_lexer": "ipython3"
  }
 },
 "nbformat": 4,
 "nbformat_minor": 5
}
